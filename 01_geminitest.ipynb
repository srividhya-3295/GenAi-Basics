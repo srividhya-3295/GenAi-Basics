{
 "cells": [
  {
   "cell_type": "code",
   "execution_count": 1,
   "metadata": {},
   "outputs": [
    {
     "name": "stderr",
     "output_type": "stream",
     "text": [
      "c:\\Users\\sudha\\Videos\\GenAIPractise\\venv\\Lib\\site-packages\\tqdm\\auto.py:21: TqdmWarning: IProgress not found. Please update jupyter and ipywidgets. See https://ipywidgets.readthedocs.io/en/stable/user_install.html\n",
      "  from .autonotebook import tqdm as notebook_tqdm\n"
     ]
    },
    {
     "name": "stdout",
     "output_type": "stream",
     "text": [
      "models/chat-bison-001\n",
      "models/text-bison-001\n",
      "models/embedding-gecko-001\n",
      "models/gemini-1.0-pro-vision-latest\n",
      "models/gemini-pro-vision\n",
      "models/gemini-1.5-pro-latest\n",
      "models/gemini-1.5-pro-001\n",
      "models/gemini-1.5-pro-002\n",
      "models/gemini-1.5-pro\n",
      "models/gemini-1.5-flash-latest\n",
      "models/gemini-1.5-flash-001\n",
      "models/gemini-1.5-flash-001-tuning\n",
      "models/gemini-1.5-flash\n",
      "models/gemini-1.5-flash-002\n",
      "models/gemini-1.5-flash-8b\n",
      "models/gemini-1.5-flash-8b-001\n",
      "models/gemini-1.5-flash-8b-latest\n",
      "models/gemini-1.5-flash-8b-exp-0827\n",
      "models/gemini-1.5-flash-8b-exp-0924\n",
      "models/gemini-2.0-flash-exp\n",
      "models/gemini-2.0-flash\n",
      "models/gemini-2.0-flash-001\n",
      "models/gemini-2.0-flash-exp-image-generation\n",
      "models/gemini-2.0-flash-lite-001\n",
      "models/gemini-2.0-flash-lite\n",
      "models/gemini-2.0-flash-lite-preview-02-05\n",
      "models/gemini-2.0-flash-lite-preview\n",
      "models/gemini-2.0-pro-exp\n",
      "models/gemini-2.0-pro-exp-02-05\n",
      "models/gemini-exp-1206\n",
      "models/gemini-2.0-flash-thinking-exp-01-21\n",
      "models/gemini-2.0-flash-thinking-exp\n",
      "models/gemini-2.0-flash-thinking-exp-1219\n",
      "models/learnlm-1.5-pro-experimental\n",
      "models/gemma-3-27b-it\n",
      "models/embedding-001\n",
      "models/text-embedding-004\n",
      "models/gemini-embedding-exp-03-07\n",
      "models/gemini-embedding-exp\n",
      "models/aqa\n",
      "models/imagen-3.0-generate-002\n"
     ]
    }
   ],
   "source": [
    "import google.generativeai as genai\n",
    "import os\n",
    "from dotenv import load_dotenv\n",
    "\n",
    "# Load environment variables from .env file\n",
    "load_dotenv()\n",
    "\n",
    "# Retrieve the GOOGLE_API_KEY from the environment variables\n",
    "google_api_key = os.getenv('GOOGLE_API_KEY')\n",
    "\n",
    "genai.configure(api_key= google_api_key)\n",
    "\n",
    "models = genai.list_models()\n",
    "for model in models:\n",
    "    print(model.name)"
   ]
  },
  {
   "cell_type": "code",
   "execution_count": 2,
   "metadata": {},
   "outputs": [
    {
     "name": "stdout",
     "output_type": "stream",
     "text": [
      "Ah, the age-old question! There's no single, universally accepted answer to the meaning of life. It's a question that philosophers, theologians, and individuals have wrestled with for centuries. Here's a breakdown of different perspectives and approaches:\n",
      "\n",
      "**1. Philosophical Perspectives:**\n",
      "\n",
      "*   **Nihilism:**  The belief that life is inherently without meaning, purpose, or intrinsic value. Nothing truly matters.\n",
      "*   **Existentialism:** Meaning is not pre-ordained; we create our own meaning through our choices and actions. We are responsible for defining our own purpose in a meaningless universe. Key figures include Sartre, Camus, and Kierkegaard.\n",
      "*   **Absurdism:**  Recognizes the conflict between humanity's innate desire to find meaning and the universe's apparent lack of it.  We should embrace this absurdity and live with passion despite it.\n",
      "*   **Hedonism:**  The pursuit of pleasure and avoidance of pain as the primary goals of life.\n",
      "*   **Stoicism:** Finding meaning through virtue, reason, and living in accordance with nature.  Accepting what you cannot control and focusing on what you can.\n",
      "*   **Utilitarianism:**  Maximizing happiness and well-being for the greatest number of people.\n",
      "\n",
      "**2. Religious and Spiritual Perspectives:**\n",
      "\n",
      "*   **Many religions:**  Life has a purpose ordained by a higher power, often involving worship, service, and adherence to divine commandments.  The meaning often involves a relationship with God and achieving salvation or enlightenment.\n",
      "*   **Buddhism:**  Finding enlightenment through understanding the nature of suffering, impermanence, and the self. The goal is to achieve Nirvana, a state of liberation from suffering.\n",
      "*   **Hinduism:**  Fulfilling one's Dharma (duty) and working towards Moksha (liberation) through various paths like knowledge, devotion, and action.\n",
      "\n",
      "**3. Personal Perspectives:**\n",
      "\n",
      "*   **Relationships:**  Finding meaning through love, connection, and contributing to the lives of others.\n",
      "*   **Contribution:**  Making a positive impact on the world, whether through work, volunteering, or creative endeavors.\n",
      "*   **Growth and Learning:**  Continually expanding your knowledge, skills, and understanding of yourself and the world.\n",
      "*   **Experiences:**  Seeking out new adventures, challenges, and moments of beauty and wonder.\n",
      "*   **Authenticity:**  Living in alignment with your values and being true to yourself.\n",
      "*   **Creating Something:**  Whether it's art, a business, a family, or a community, the act of creation can provide a sense of purpose.\n",
      "*   **Finding Joy:** Simply appreciating the beauty and wonder of the world and finding joy in everyday moments.\n",
      "\n",
      "**How to Find Your Own Meaning:**\n",
      "\n",
      "*   **Reflect on your values:** What is truly important to you? What do you care about deeply?\n",
      "*   **Explore your passions:** What activities make you feel alive and engaged?\n",
      "*   **Consider your impact:** How do you want to contribute to the world?\n",
      "*   **Experiment and try new things:**  You might discover a passion or purpose you never knew you had.\n",
      "*   **Don't be afraid to change your mind:**  Your meaning may evolve over time.\n",
      "*   **Be present and mindful:**  Pay attention to the small moments and appreciate the beauty of life.\n",
      "\n",
      "**In conclusion, the meaning of life is not a destination to be reached, but a journey to be explored. It's up to each individual to define what gives their life purpose and meaning.**  The most important thing is to find something that resonates with you and inspires you to live a fulfilling life. Good luck on your search!\n",
      "\n"
     ]
    }
   ],
   "source": [
    "import google.generativeai as genai\n",
    "\n",
    "genai.configure(api_key= google_api_key)\n",
    "\n",
    "model = genai.GenerativeModel('gemini-2.0-flash')\n",
    "response = model.generate_content(\"What is the meaning of life?\")\n",
    "print(response.text)"
   ]
  },
  {
   "cell_type": "code",
   "execution_count": null,
   "metadata": {},
   "outputs": [],
   "source": []
  }
 ],
 "metadata": {
  "kernelspec": {
   "display_name": "venv",
   "language": "python",
   "name": "python3"
  },
  "language_info": {
   "codemirror_mode": {
    "name": "ipython",
    "version": 3
   },
   "file_extension": ".py",
   "mimetype": "text/x-python",
   "name": "python",
   "nbconvert_exporter": "python",
   "pygments_lexer": "ipython3",
   "version": "3.11.9"
  }
 },
 "nbformat": 4,
 "nbformat_minor": 2
}
